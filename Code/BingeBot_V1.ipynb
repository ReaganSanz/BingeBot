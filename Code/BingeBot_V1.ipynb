{
  "cells": [
    {
      "cell_type": "code",
      "execution_count": null,
      "metadata": {},
      "outputs": [],
      "source": [
        "#@title Install Requirements\n",
        "!pip install -qU \"langchain[google-vertexai]\"\n",
        "!pip install -qU langchain-google-vertexai\n",
        "!pip install langchain-google-genai\n",
        "!pip install -qU langchain-core\n",
        "!pip install -qU pypdf langchain_community\n",
        "!pip install playwright\n",
        "!playwright install"
      ]
    },
    {
      "cell_type": "code",
      "execution_count": null,
      "metadata": {},
      "outputs": [],
      "source": [
        "#@title Get Google AI API Key\n",
        "## You need to put your Google AI API key.\n",
        "\n",
        "import getpass\n",
        "import os\n",
        "\n",
        "if \"GOOGLE_API_KEY\" not in os.environ:\n",
        "    os.environ[\"GOOGLE_API_KEY\"] = getpass.getpass(\"Enter your Google AI API key: \")"
      ]
    },
    {
      "cell_type": "code",
      "execution_count": null,
      "metadata": {},
      "outputs": [],
      "source": [
        "#@title Authenticate with Google Cloud and your project ID\n",
        "# Please put your google cloud project id.\n",
        "\n",
        "import vertexai\n",
        "from google.colab import auth\n",
        "\n",
        "gcp_project_id = 'ENTER PROJECT ID' # @param {type: \"string\"}\n",
        "\n",
        "auth.authenticate_user(project_id=gcp_project_id)\n",
        "\n",
        "vertexai.init(project=gcp_project_id)"
      ]
    },
    {
      "cell_type": "code",
      "execution_count": 7,
      "metadata": {
        "colab": {
          "base_uri": "https://localhost:8080/"
        },
        "id": "2gA3EbPKZkg7",
        "outputId": "2d505268-9664-44eb-a906-9f340f752b0a"
      },
      "outputs": [
        {
          "name": "stdout",
          "output_type": "stream",
          "text": [
            "I recommend **Les Bleus - Une autre histoire de France, 1996-2016**.\n",
            "\n",
            "This 2016 French documentary, directed by Pascal Blanchard, Sonia Dauger, and David Dietz, charts 20 years of the French national soccer team, Les Bleus, whose ups and downs have mirrored those of French society. It was added to Netflix on March 15, 2017, and is rated TV-MA.\n",
            "\n"
          ]
        }
      ],
      "source": [
        "#@title RAG Train Model\n",
        "#!pip install -qU \"langchain[google-vertexai]\"\n",
        "#!pip install -qU langchain-google-vertexai\n",
        "#!pip install langchain-google-genai\n",
        "#!pip install -qU langchain-core\n",
        "#!pip install -qU pypdf langchain_community\n",
        "#!pip install playwright\n",
        "#!playwright install\n",
        "\n",
        "import requests\n",
        "from langchain.chat_models import init_chat_model\n",
        "from langchain_core.prompts import ChatPromptTemplate\n",
        "from langchain_community.document_loaders import TextLoader\n",
        "from langchain_community.document_loaders import AsyncChromiumLoader\n",
        "from langchain_community.document_transformers import BeautifulSoupTransformer\n",
        "\n",
        "# embed the document\n",
        "from langchain_text_splitters import RecursiveCharacterTextSplitter\n",
        "from langchain_google_vertexai import VertexAIEmbeddings\n",
        "from langchain_core.vectorstores import InMemoryVectorStore\n",
        "import urllib.request\n",
        "\n",
        "from langchain_community.document_loaders import PyPDFLoader\n",
        "\n",
        "file_path = \"./movies_data_1.txt\"\n",
        "loader = TextLoader(file_path)\n",
        "\n",
        "docs = loader.load()\n",
        "\n",
        "\n",
        "# Split the text into chunks\n",
        "text_splitter = RecursiveCharacterTextSplitter(chunk_size=1000, chunk_overlap=200)\n",
        "splits = text_splitter.split_documents(docs)\n",
        "\n",
        "# load chat model\n",
        "llm = init_chat_model(\"gemini-2.0-flash-001\", model_provider=\"google_vertexai\")\n",
        "\n",
        "# load embedding model\n",
        "embedding_model = VertexAIEmbeddings(model=\"text-embedding-004\")\n",
        "\n",
        "# vector store\n",
        "vector_store = InMemoryVectorStore(embedding=embedding_model)\n",
        "vector_store.add_texts([docs.page_content for docs in splits])\n",
        "retriever = vector_store.as_retriever()\n",
        "\n",
        "\n",
        "# run inference with RAG\n",
        "from langchain.chains import create_retrieval_chain\n",
        "from langchain.chains.combine_documents import create_stuff_documents_chain\n",
        "\n",
        "system_prompt = (\n",
        "    \"You are an LLM that should answer my questions with correct answers.\"\n",
        "    \"Please use the provided information to answer the question to the best \"\n",
        "    \"of your ability. If you are unsure how to answer the question, say that \"\n",
        "    \"you are unable to answer the question.\\n\"\n",
        "    \"{context}\"\n",
        ")\n",
        "\n",
        "prompt = ChatPromptTemplate.from_messages(\n",
        "    [\n",
        "        (\"system\", system_prompt),\n",
        "        (\"human\", \"{input}\"),\n",
        "    ]\n",
        ")\n",
        "\n",
        "\n",
        "question_answer_chain = create_stuff_documents_chain(llm, prompt)\n",
        "rag_chain = create_retrieval_chain(retriever, question_answer_chain)\n",
        "\n",
        "results = rag_chain.invoke({\"input\": \"Can you give me a recommendation for a Netflix Movie that is a French Sports Movie? Can you then tell me more about that movie?\"})\n",
        "print(results['answer'])"
      ]
    },
    {
      "cell_type": "code",
      "execution_count": 9,
      "metadata": {
        "colab": {
          "base_uri": "https://localhost:8080/"
        },
        "id": "ZRFp7OL7R2EO",
        "outputId": "871590ce-ad56-4e71-93e2-6853e70ac430"
      },
      "outputs": [
        {
          "name": "stdout",
          "output_type": "stream",
          "text": [
            "Here are a couple of suggestions for movies on Netflix that star Hugh Jackman:\n",
            "\n",
            "1.  **Real Steel:** This is an Action & Adventure, Sci-Fi & Fantasy, and Sports movie.\n",
            "2.  **Les Misérables:** This is a Dramas, International Movies, and Music & Musicals movie.\n",
            "\n",
            "Unfortunately, the provided data does not include IMDB ratings.\n"
          ]
        }
      ],
      "source": [
        "\n",
        "results = rag_chain.invoke({\"input\": \"I want to watch a movie on Netflix with Hugh Jackman, can I have a couple of suggestions and their IMDB ratings (if available)?\"})\n",
        "print(results['answer'])"
      ]
    },
    {
      "cell_type": "code",
      "execution_count": 14,
      "metadata": {
        "colab": {
          "base_uri": "https://localhost:8080/"
        },
        "id": "nGNvqXboSgd_",
        "outputId": "4ad264e9-929c-4bcc-e93f-478a98faf125"
      },
      "outputs": [
        {
          "name": "stdout",
          "output_type": "stream",
          "text": [
            "I can recommend \"The Time Traveler's Wife,\" \"When We First Met,\" or \"Kate & Leopold.\" \"About Time\" also involves time travel, but it is categorized as a comedy and drama instead of a romance.\n",
            "\n"
          ]
        }
      ],
      "source": [
        "results = rag_chain.invoke({\"input\": \"Can you give me a recommendation for a Netflix romance movie with time travel?\"})\n",
        "print(results['answer'])"
      ]
    },
    {
      "cell_type": "code",
      "execution_count": 17,
      "metadata": {
        "colab": {
          "base_uri": "https://localhost:8080/"
        },
        "id": "XgnL44dQViuH",
        "outputId": "72306df4-0980-43ee-8e4e-6a335617de50"
      },
      "outputs": [
        {
          "name": "stdout",
          "output_type": "stream",
          "text": [
            "BLACKPINK: Light Up the Sky has an IMDB rating of 8.4.\n",
            "\n"
          ]
        }
      ],
      "source": [
        "results = rag_chain.invoke({\"input\": \"Can you give me a recommendation for a Netflix movie with an IMDB rating over 8?\"})\n",
        "print(results['answer'])"
      ]
    }
  ],
  "metadata": {
    "colab": {
      "provenance": []
    },
    "kernelspec": {
      "display_name": "Python 3",
      "name": "python3"
    },
    "language_info": {
      "name": "python"
    }
  },
  "nbformat": 4,
  "nbformat_minor": 0
}
