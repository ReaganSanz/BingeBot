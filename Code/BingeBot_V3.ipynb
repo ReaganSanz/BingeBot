{
  "nbformat": 4,
  "nbformat_minor": 0,
  "metadata": {
    "colab": {
      "provenance": []
    },
    "kernelspec": {
      "name": "python3",
      "display_name": "Python 3"
    },
    "language_info": {
      "name": "python"
    }
  },
  "cells": [
    {
      "cell_type": "code",
      "execution_count": 1,
      "metadata": {
        "colab": {
          "base_uri": "https://localhost:8080/",
          "height": 1000
        },
        "id": "1Jc-fZQmvESC",
        "outputId": "bca3f1b7-79ed-4a40-a0f6-15d2c91aab0d"
      },
      "outputs": [
        {
          "output_type": "stream",
          "name": "stdout",
          "text": [
            "\u001b[2K   \u001b[90m━━━━━━━━━━━━━━━━━━━━━━━━━━━━━━━━━━━━━━━━\u001b[0m \u001b[32m99.4/99.4 kB\u001b[0m \u001b[31m2.4 MB/s\u001b[0m eta \u001b[36m0:00:00\u001b[0m\n",
            "\u001b[2K   \u001b[90m━━━━━━━━━━━━━━━━━━━━━━━━━━━━━━━━━━━━━━━━\u001b[0m \u001b[32m42.1/42.1 MB\u001b[0m \u001b[31m18.4 MB/s\u001b[0m eta \u001b[36m0:00:00\u001b[0m\n",
            "\u001b[2K   \u001b[90m━━━━━━━━━━━━━━━━━━━━━━━━━━━━━━━━━━━━━━━━\u001b[0m \u001b[32m43.5/43.5 kB\u001b[0m \u001b[31m1.4 MB/s\u001b[0m eta \u001b[36m0:00:00\u001b[0m\n",
            "\u001b[?25hCollecting langchain-google-genai\n",
            "  Downloading langchain_google_genai-2.1.3-py3-none-any.whl.metadata (4.7 kB)\n",
            "Collecting filetype<2.0.0,>=1.2.0 (from langchain-google-genai)\n",
            "  Downloading filetype-1.2.0-py2.py3-none-any.whl.metadata (6.5 kB)\n",
            "Collecting google-ai-generativelanguage<0.7.0,>=0.6.16 (from langchain-google-genai)\n",
            "  Downloading google_ai_generativelanguage-0.6.17-py3-none-any.whl.metadata (9.8 kB)\n",
            "Requirement already satisfied: langchain-core<0.4.0,>=0.3.52 in /usr/local/lib/python3.11/dist-packages (from langchain-google-genai) (0.3.55)\n",
            "Requirement already satisfied: pydantic<3,>=2 in /usr/local/lib/python3.11/dist-packages (from langchain-google-genai) (2.11.3)\n",
            "Requirement already satisfied: google-api-core!=2.0.*,!=2.1.*,!=2.10.*,!=2.2.*,!=2.3.*,!=2.4.*,!=2.5.*,!=2.6.*,!=2.7.*,!=2.8.*,!=2.9.*,<3.0.0,>=1.34.1 in /usr/local/lib/python3.11/dist-packages (from google-api-core[grpc]!=2.0.*,!=2.1.*,!=2.10.*,!=2.2.*,!=2.3.*,!=2.4.*,!=2.5.*,!=2.6.*,!=2.7.*,!=2.8.*,!=2.9.*,<3.0.0,>=1.34.1->google-ai-generativelanguage<0.7.0,>=0.6.16->langchain-google-genai) (2.24.2)\n",
            "Requirement already satisfied: google-auth!=2.24.0,!=2.25.0,<3.0.0,>=2.14.1 in /usr/local/lib/python3.11/dist-packages (from google-ai-generativelanguage<0.7.0,>=0.6.16->langchain-google-genai) (2.38.0)\n",
            "Requirement already satisfied: proto-plus<2.0.0,>=1.22.3 in /usr/local/lib/python3.11/dist-packages (from google-ai-generativelanguage<0.7.0,>=0.6.16->langchain-google-genai) (1.26.1)\n",
            "Requirement already satisfied: protobuf!=4.21.0,!=4.21.1,!=4.21.2,!=4.21.3,!=4.21.4,!=4.21.5,<7.0.0,>=3.20.2 in /usr/local/lib/python3.11/dist-packages (from google-ai-generativelanguage<0.7.0,>=0.6.16->langchain-google-genai) (5.29.4)\n",
            "Requirement already satisfied: langsmith<0.4,>=0.1.125 in /usr/local/lib/python3.11/dist-packages (from langchain-core<0.4.0,>=0.3.52->langchain-google-genai) (0.3.33)\n",
            "Requirement already satisfied: tenacity!=8.4.0,<10.0.0,>=8.1.0 in /usr/local/lib/python3.11/dist-packages (from langchain-core<0.4.0,>=0.3.52->langchain-google-genai) (9.1.2)\n",
            "Requirement already satisfied: jsonpatch<2.0,>=1.33 in /usr/local/lib/python3.11/dist-packages (from langchain-core<0.4.0,>=0.3.52->langchain-google-genai) (1.33)\n",
            "Requirement already satisfied: PyYAML>=5.3 in /usr/local/lib/python3.11/dist-packages (from langchain-core<0.4.0,>=0.3.52->langchain-google-genai) (6.0.2)\n",
            "Requirement already satisfied: packaging<25,>=23.2 in /usr/local/lib/python3.11/dist-packages (from langchain-core<0.4.0,>=0.3.52->langchain-google-genai) (24.2)\n",
            "Requirement already satisfied: typing-extensions>=4.7 in /usr/local/lib/python3.11/dist-packages (from langchain-core<0.4.0,>=0.3.52->langchain-google-genai) (4.13.2)\n",
            "Requirement already satisfied: annotated-types>=0.6.0 in /usr/local/lib/python3.11/dist-packages (from pydantic<3,>=2->langchain-google-genai) (0.7.0)\n",
            "Requirement already satisfied: pydantic-core==2.33.1 in /usr/local/lib/python3.11/dist-packages (from pydantic<3,>=2->langchain-google-genai) (2.33.1)\n",
            "Requirement already satisfied: typing-inspection>=0.4.0 in /usr/local/lib/python3.11/dist-packages (from pydantic<3,>=2->langchain-google-genai) (0.4.0)\n",
            "Requirement already satisfied: googleapis-common-protos<2.0.0,>=1.56.2 in /usr/local/lib/python3.11/dist-packages (from google-api-core!=2.0.*,!=2.1.*,!=2.10.*,!=2.2.*,!=2.3.*,!=2.4.*,!=2.5.*,!=2.6.*,!=2.7.*,!=2.8.*,!=2.9.*,<3.0.0,>=1.34.1->google-api-core[grpc]!=2.0.*,!=2.1.*,!=2.10.*,!=2.2.*,!=2.3.*,!=2.4.*,!=2.5.*,!=2.6.*,!=2.7.*,!=2.8.*,!=2.9.*,<3.0.0,>=1.34.1->google-ai-generativelanguage<0.7.0,>=0.6.16->langchain-google-genai) (1.70.0)\n",
            "Requirement already satisfied: requests<3.0.0,>=2.18.0 in /usr/local/lib/python3.11/dist-packages (from google-api-core!=2.0.*,!=2.1.*,!=2.10.*,!=2.2.*,!=2.3.*,!=2.4.*,!=2.5.*,!=2.6.*,!=2.7.*,!=2.8.*,!=2.9.*,<3.0.0,>=1.34.1->google-api-core[grpc]!=2.0.*,!=2.1.*,!=2.10.*,!=2.2.*,!=2.3.*,!=2.4.*,!=2.5.*,!=2.6.*,!=2.7.*,!=2.8.*,!=2.9.*,<3.0.0,>=1.34.1->google-ai-generativelanguage<0.7.0,>=0.6.16->langchain-google-genai) (2.32.3)\n",
            "Requirement already satisfied: grpcio<2.0dev,>=1.33.2 in /usr/local/lib/python3.11/dist-packages (from google-api-core[grpc]!=2.0.*,!=2.1.*,!=2.10.*,!=2.2.*,!=2.3.*,!=2.4.*,!=2.5.*,!=2.6.*,!=2.7.*,!=2.8.*,!=2.9.*,<3.0.0,>=1.34.1->google-ai-generativelanguage<0.7.0,>=0.6.16->langchain-google-genai) (1.71.0)\n",
            "Requirement already satisfied: grpcio-status<2.0.dev0,>=1.33.2 in /usr/local/lib/python3.11/dist-packages (from google-api-core[grpc]!=2.0.*,!=2.1.*,!=2.10.*,!=2.2.*,!=2.3.*,!=2.4.*,!=2.5.*,!=2.6.*,!=2.7.*,!=2.8.*,!=2.9.*,<3.0.0,>=1.34.1->google-ai-generativelanguage<0.7.0,>=0.6.16->langchain-google-genai) (1.71.0)\n",
            "Requirement already satisfied: cachetools<6.0,>=2.0.0 in /usr/local/lib/python3.11/dist-packages (from google-auth!=2.24.0,!=2.25.0,<3.0.0,>=2.14.1->google-ai-generativelanguage<0.7.0,>=0.6.16->langchain-google-genai) (5.5.2)\n",
            "Requirement already satisfied: pyasn1-modules>=0.2.1 in /usr/local/lib/python3.11/dist-packages (from google-auth!=2.24.0,!=2.25.0,<3.0.0,>=2.14.1->google-ai-generativelanguage<0.7.0,>=0.6.16->langchain-google-genai) (0.4.2)\n",
            "Requirement already satisfied: rsa<5,>=3.1.4 in /usr/local/lib/python3.11/dist-packages (from google-auth!=2.24.0,!=2.25.0,<3.0.0,>=2.14.1->google-ai-generativelanguage<0.7.0,>=0.6.16->langchain-google-genai) (4.9.1)\n",
            "Requirement already satisfied: jsonpointer>=1.9 in /usr/local/lib/python3.11/dist-packages (from jsonpatch<2.0,>=1.33->langchain-core<0.4.0,>=0.3.52->langchain-google-genai) (3.0.0)\n",
            "Requirement already satisfied: httpx<1,>=0.23.0 in /usr/local/lib/python3.11/dist-packages (from langsmith<0.4,>=0.1.125->langchain-core<0.4.0,>=0.3.52->langchain-google-genai) (0.28.1)\n",
            "Requirement already satisfied: orjson<4.0.0,>=3.9.14 in /usr/local/lib/python3.11/dist-packages (from langsmith<0.4,>=0.1.125->langchain-core<0.4.0,>=0.3.52->langchain-google-genai) (3.10.16)\n",
            "Requirement already satisfied: requests-toolbelt<2.0.0,>=1.0.0 in /usr/local/lib/python3.11/dist-packages (from langsmith<0.4,>=0.1.125->langchain-core<0.4.0,>=0.3.52->langchain-google-genai) (1.0.0)\n",
            "Requirement already satisfied: zstandard<0.24.0,>=0.23.0 in /usr/local/lib/python3.11/dist-packages (from langsmith<0.4,>=0.1.125->langchain-core<0.4.0,>=0.3.52->langchain-google-genai) (0.23.0)\n",
            "Requirement already satisfied: anyio in /usr/local/lib/python3.11/dist-packages (from httpx<1,>=0.23.0->langsmith<0.4,>=0.1.125->langchain-core<0.4.0,>=0.3.52->langchain-google-genai) (4.9.0)\n",
            "Requirement already satisfied: certifi in /usr/local/lib/python3.11/dist-packages (from httpx<1,>=0.23.0->langsmith<0.4,>=0.1.125->langchain-core<0.4.0,>=0.3.52->langchain-google-genai) (2025.1.31)\n",
            "Requirement already satisfied: httpcore==1.* in /usr/local/lib/python3.11/dist-packages (from httpx<1,>=0.23.0->langsmith<0.4,>=0.1.125->langchain-core<0.4.0,>=0.3.52->langchain-google-genai) (1.0.8)\n",
            "Requirement already satisfied: idna in /usr/local/lib/python3.11/dist-packages (from httpx<1,>=0.23.0->langsmith<0.4,>=0.1.125->langchain-core<0.4.0,>=0.3.52->langchain-google-genai) (3.10)\n",
            "Requirement already satisfied: h11<0.15,>=0.13 in /usr/local/lib/python3.11/dist-packages (from httpcore==1.*->httpx<1,>=0.23.0->langsmith<0.4,>=0.1.125->langchain-core<0.4.0,>=0.3.52->langchain-google-genai) (0.14.0)\n",
            "Requirement already satisfied: pyasn1<0.7.0,>=0.6.1 in /usr/local/lib/python3.11/dist-packages (from pyasn1-modules>=0.2.1->google-auth!=2.24.0,!=2.25.0,<3.0.0,>=2.14.1->google-ai-generativelanguage<0.7.0,>=0.6.16->langchain-google-genai) (0.6.1)\n",
            "Requirement already satisfied: charset-normalizer<4,>=2 in /usr/local/lib/python3.11/dist-packages (from requests<3.0.0,>=2.18.0->google-api-core!=2.0.*,!=2.1.*,!=2.10.*,!=2.2.*,!=2.3.*,!=2.4.*,!=2.5.*,!=2.6.*,!=2.7.*,!=2.8.*,!=2.9.*,<3.0.0,>=1.34.1->google-api-core[grpc]!=2.0.*,!=2.1.*,!=2.10.*,!=2.2.*,!=2.3.*,!=2.4.*,!=2.5.*,!=2.6.*,!=2.7.*,!=2.8.*,!=2.9.*,<3.0.0,>=1.34.1->google-ai-generativelanguage<0.7.0,>=0.6.16->langchain-google-genai) (3.4.1)\n",
            "Requirement already satisfied: urllib3<3,>=1.21.1 in /usr/local/lib/python3.11/dist-packages (from requests<3.0.0,>=2.18.0->google-api-core!=2.0.*,!=2.1.*,!=2.10.*,!=2.2.*,!=2.3.*,!=2.4.*,!=2.5.*,!=2.6.*,!=2.7.*,!=2.8.*,!=2.9.*,<3.0.0,>=1.34.1->google-api-core[grpc]!=2.0.*,!=2.1.*,!=2.10.*,!=2.2.*,!=2.3.*,!=2.4.*,!=2.5.*,!=2.6.*,!=2.7.*,!=2.8.*,!=2.9.*,<3.0.0,>=1.34.1->google-ai-generativelanguage<0.7.0,>=0.6.16->langchain-google-genai) (2.3.0)\n",
            "Requirement already satisfied: sniffio>=1.1 in /usr/local/lib/python3.11/dist-packages (from anyio->httpx<1,>=0.23.0->langsmith<0.4,>=0.1.125->langchain-core<0.4.0,>=0.3.52->langchain-google-genai) (1.3.1)\n",
            "Downloading langchain_google_genai-2.1.3-py3-none-any.whl (43 kB)\n",
            "\u001b[2K   \u001b[90m━━━━━━━━━━━━━━━━━━━━━━━━━━━━━━━━━━━━━━━━\u001b[0m \u001b[32m43.7/43.7 kB\u001b[0m \u001b[31m1.8 MB/s\u001b[0m eta \u001b[36m0:00:00\u001b[0m\n",
            "\u001b[?25hDownloading filetype-1.2.0-py2.py3-none-any.whl (19 kB)\n",
            "Downloading google_ai_generativelanguage-0.6.17-py3-none-any.whl (1.4 MB)\n",
            "\u001b[2K   \u001b[90m━━━━━━━━━━━━━━━━━━━━━━━━━━━━━━━━━━━━━━━━\u001b[0m \u001b[32m1.4/1.4 MB\u001b[0m \u001b[31m21.2 MB/s\u001b[0m eta \u001b[36m0:00:00\u001b[0m\n",
            "\u001b[?25hInstalling collected packages: filetype, google-ai-generativelanguage, langchain-google-genai\n",
            "  Attempting uninstall: google-ai-generativelanguage\n",
            "    Found existing installation: google-ai-generativelanguage 0.6.15\n",
            "    Uninstalling google-ai-generativelanguage-0.6.15:\n",
            "      Successfully uninstalled google-ai-generativelanguage-0.6.15\n",
            "\u001b[31mERROR: pip's dependency resolver does not currently take into account all the packages that are installed. This behaviour is the source of the following dependency conflicts.\n",
            "google-generativeai 0.8.5 requires google-ai-generativelanguage==0.6.15, but you have google-ai-generativelanguage 0.6.17 which is incompatible.\u001b[0m\u001b[31m\n",
            "\u001b[0mSuccessfully installed filetype-1.2.0 google-ai-generativelanguage-0.6.17 langchain-google-genai-2.1.3\n"
          ]
        },
        {
          "output_type": "display_data",
          "data": {
            "application/vnd.colab-display-data+json": {
              "pip_warning": {
                "packages": [
                  "google"
                ]
              },
              "id": "a0ab928e141048a58bb9997fdbca8410"
            }
          },
          "metadata": {}
        },
        {
          "output_type": "stream",
          "name": "stdout",
          "text": [
            "\u001b[2K   \u001b[90m━━━━━━━━━━━━━━━━━━━━━━━━━━━━━━━━━━━━━━━━\u001b[0m \u001b[32m437.2/437.2 kB\u001b[0m \u001b[31m5.7 MB/s\u001b[0m eta \u001b[36m0:00:00\u001b[0m\n",
            "\u001b[2K   \u001b[90m━━━━━━━━━━━━━━━━━━━━━━━━━━━━━━━━━━━━━━━━\u001b[0m \u001b[32m302.3/302.3 kB\u001b[0m \u001b[31m7.8 MB/s\u001b[0m eta \u001b[36m0:00:00\u001b[0m\n",
            "\u001b[2K   \u001b[90m━━━━━━━━━━━━━━━━━━━━━━━━━━━━━━━━━━━━━━━━\u001b[0m \u001b[32m2.5/2.5 MB\u001b[0m \u001b[31m39.8 MB/s\u001b[0m eta \u001b[36m0:00:00\u001b[0m\n",
            "\u001b[2K   \u001b[90m━━━━━━━━━━━━━━━━━━━━━━━━━━━━━━━━━━━━━━━━\u001b[0m \u001b[32m44.4/44.4 kB\u001b[0m \u001b[31m2.6 MB/s\u001b[0m eta \u001b[36m0:00:00\u001b[0m\n",
            "\u001b[2K   \u001b[90m━━━━━━━━━━━━━━━━━━━━━━━━━━━━━━━━━━━━━━━━\u001b[0m \u001b[32m50.9/50.9 kB\u001b[0m \u001b[31m2.9 MB/s\u001b[0m eta \u001b[36m0:00:00\u001b[0m\n",
            "\u001b[?25hCollecting playwright\n",
            "  Downloading playwright-1.51.0-py3-none-manylinux1_x86_64.whl.metadata (3.5 kB)\n",
            "Collecting pyee<13,>=12 (from playwright)\n",
            "  Downloading pyee-12.1.1-py3-none-any.whl.metadata (2.9 kB)\n",
            "Requirement already satisfied: greenlet<4.0.0,>=3.1.1 in /usr/local/lib/python3.11/dist-packages (from playwright) (3.2.1)\n",
            "Requirement already satisfied: typing-extensions in /usr/local/lib/python3.11/dist-packages (from pyee<13,>=12->playwright) (4.13.2)\n",
            "Downloading playwright-1.51.0-py3-none-manylinux1_x86_64.whl (45.2 MB)\n",
            "\u001b[2K   \u001b[90m━━━━━━━━━━━━━━━━━━━━━━━━━━━━━━━━━━━━━━━━\u001b[0m \u001b[32m45.2/45.2 MB\u001b[0m \u001b[31m9.6 MB/s\u001b[0m eta \u001b[36m0:00:00\u001b[0m\n",
            "\u001b[?25hDownloading pyee-12.1.1-py3-none-any.whl (15 kB)\n",
            "Installing collected packages: pyee, playwright\n",
            "Successfully installed playwright-1.51.0 pyee-12.1.1\n",
            "Downloading Chromium 134.0.6998.35 (playwright build v1161)\u001b[2m from https://cdn.playwright.dev/dbazure/download/playwright/builds/chromium/1161/chromium-linux.zip\u001b[22m\n",
            "\u001b[1G164.9 MiB [] 0% 125.5s\u001b[0K\u001b[1G164.9 MiB [] 0% 52.3s\u001b[0K\u001b[1G164.9 MiB [] 0% 22.5s\u001b[0K\u001b[1G164.9 MiB [] 0% 13.4s\u001b[0K\u001b[1G164.9 MiB [] 0% 7.3s\u001b[0K\u001b[1G164.9 MiB [] 1% 5.3s\u001b[0K\u001b[1G164.9 MiB [] 2% 4.3s\u001b[0K\u001b[1G164.9 MiB [] 2% 3.8s\u001b[0K\u001b[1G164.9 MiB [] 3% 3.4s\u001b[0K\u001b[1G164.9 MiB [] 4% 3.1s\u001b[0K\u001b[1G164.9 MiB [] 5% 2.8s\u001b[0K\u001b[1G164.9 MiB [] 6% 2.8s\u001b[0K\u001b[1G164.9 MiB [] 6% 2.9s\u001b[0K\u001b[1G164.9 MiB [] 7% 2.9s\u001b[0K\u001b[1G164.9 MiB [] 7% 2.8s\u001b[0K\u001b[1G164.9 MiB [] 8% 2.7s\u001b[0K\u001b[1G164.9 MiB [] 9% 2.6s\u001b[0K\u001b[1G164.9 MiB [] 10% 2.5s\u001b[0K\u001b[1G164.9 MiB [] 11% 2.4s\u001b[0K\u001b[1G164.9 MiB [] 12% 2.3s\u001b[0K\u001b[1G164.9 MiB [] 13% 2.3s\u001b[0K\u001b[1G164.9 MiB [] 14% 2.2s\u001b[0K\u001b[1G164.9 MiB [] 15% 2.1s\u001b[0K\u001b[1G164.9 MiB [] 16% 2.0s\u001b[0K\u001b[1G164.9 MiB [] 17% 2.0s\u001b[0K\u001b[1G164.9 MiB [] 18% 1.9s\u001b[0K\u001b[1G164.9 MiB [] 19% 1.9s\u001b[0K\u001b[1G164.9 MiB [] 20% 1.9s\u001b[0K\u001b[1G164.9 MiB [] 21% 1.9s\u001b[0K\u001b[1G164.9 MiB [] 21% 1.8s\u001b[0K\u001b[1G164.9 MiB [] 22% 1.8s\u001b[0K\u001b[1G164.9 MiB [] 23% 1.8s\u001b[0K\u001b[1G164.9 MiB [] 24% 1.8s\u001b[0K\u001b[1G164.9 MiB [] 25% 1.7s\u001b[0K\u001b[1G164.9 MiB [] 26% 1.7s\u001b[0K\u001b[1G164.9 MiB [] 27% 1.7s\u001b[0K\u001b[1G164.9 MiB [] 27% 1.8s\u001b[0K\u001b[1G164.9 MiB [] 28% 1.8s\u001b[0K\u001b[1G164.9 MiB [] 29% 1.7s\u001b[0K\u001b[1G164.9 MiB [] 30% 1.7s\u001b[0K\u001b[1G164.9 MiB [] 31% 1.6s\u001b[0K\u001b[1G164.9 MiB [] 32% 1.6s\u001b[0K\u001b[1G164.9 MiB [] 33% 1.6s\u001b[0K\u001b[1G164.9 MiB [] 33% 1.5s\u001b[0K\u001b[1G164.9 MiB [] 34% 1.5s\u001b[0K\u001b[1G164.9 MiB [] 35% 1.5s\u001b[0K\u001b[1G164.9 MiB [] 36% 1.5s\u001b[0K\u001b[1G164.9 MiB [] 37% 1.5s\u001b[0K\u001b[1G164.9 MiB [] 38% 1.4s\u001b[0K\u001b[1G164.9 MiB [] 39% 1.4s\u001b[0K\u001b[1G164.9 MiB [] 40% 1.4s\u001b[0K\u001b[1G164.9 MiB [] 40% 1.3s\u001b[0K\u001b[1G164.9 MiB [] 41% 1.3s\u001b[0K\u001b[1G164.9 MiB [] 42% 1.3s\u001b[0K\u001b[1G164.9 MiB [] 43% 1.3s\u001b[0K\u001b[1G164.9 MiB [] 44% 1.3s\u001b[0K\u001b[1G164.9 MiB [] 45% 1.2s\u001b[0K\u001b[1G164.9 MiB [] 46% 1.2s\u001b[0K\u001b[1G164.9 MiB [] 47% 1.2s\u001b[0K\u001b[1G164.9 MiB [] 49% 1.1s\u001b[0K\u001b[1G164.9 MiB [] 51% 1.1s\u001b[0K\u001b[1G164.9 MiB [] 51% 1.0s\u001b[0K\u001b[1G164.9 MiB [] 52% 1.0s\u001b[0K\u001b[1G164.9 MiB [] 53% 1.0s\u001b[0K\u001b[1G164.9 MiB [] 54% 1.0s\u001b[0K\u001b[1G164.9 MiB [] 55% 0.9s\u001b[0K\u001b[1G164.9 MiB [] 56% 0.9s\u001b[0K\u001b[1G164.9 MiB [] 57% 0.9s\u001b[0K\u001b[1G164.9 MiB [] 58% 0.9s\u001b[0K\u001b[1G164.9 MiB [] 59% 0.9s\u001b[0K\u001b[1G164.9 MiB [] 60% 0.8s\u001b[0K\u001b[1G164.9 MiB [] 61% 0.8s\u001b[0K\u001b[1G164.9 MiB [] 62% 0.8s\u001b[0K\u001b[1G164.9 MiB [] 63% 0.8s\u001b[0K\u001b[1G164.9 MiB [] 64% 0.7s\u001b[0K\u001b[1G164.9 MiB [] 66% 0.7s\u001b[0K\u001b[1G164.9 MiB [] 67% 0.7s\u001b[0K\u001b[1G164.9 MiB [] 68% 0.7s\u001b[0K\u001b[1G164.9 MiB [] 68% 0.6s\u001b[0K\u001b[1G164.9 MiB [] 69% 0.6s\u001b[0K\u001b[1G164.9 MiB [] 70% 0.6s\u001b[0K\u001b[1G164.9 MiB [] 71% 0.6s\u001b[0K\u001b[1G164.9 MiB [] 72% 0.6s\u001b[0K\u001b[1G164.9 MiB [] 73% 0.6s\u001b[0K\u001b[1G164.9 MiB [] 74% 0.5s\u001b[0K\u001b[1G164.9 MiB [] 75% 0.5s\u001b[0K\u001b[1G164.9 MiB [] 76% 0.5s\u001b[0K\u001b[1G164.9 MiB [] 77% 0.5s\u001b[0K\u001b[1G164.9 MiB [] 78% 0.4s\u001b[0K\u001b[1G164.9 MiB [] 79% 0.4s\u001b[0K\u001b[1G164.9 MiB [] 80% 0.4s\u001b[0K\u001b[1G164.9 MiB [] 81% 0.4s\u001b[0K\u001b[1G164.9 MiB [] 82% 0.4s\u001b[0K\u001b[1G164.9 MiB [] 83% 0.3s\u001b[0K\u001b[1G164.9 MiB [] 84% 0.3s\u001b[0K\u001b[1G164.9 MiB [] 85% 0.3s\u001b[0K\u001b[1G164.9 MiB [] 86% 0.3s\u001b[0K\u001b[1G164.9 MiB [] 87% 0.3s\u001b[0K\u001b[1G164.9 MiB [] 88% 0.2s\u001b[0K\u001b[1G164.9 MiB [] 89% 0.2s\u001b[0K\u001b[1G164.9 MiB [] 90% 0.2s\u001b[0K\u001b[1G164.9 MiB [] 91% 0.2s\u001b[0K\u001b[1G164.9 MiB [] 92% 0.2s\u001b[0K\u001b[1G164.9 MiB [] 93% 0.1s\u001b[0K\u001b[1G164.9 MiB [] 94% 0.1s\u001b[0K\u001b[1G164.9 MiB [] 95% 0.1s\u001b[0K\u001b[1G164.9 MiB [] 96% 0.1s\u001b[0K\u001b[1G164.9 MiB [] 97% 0.1s\u001b[0K\u001b[1G164.9 MiB [] 98% 0.0s\u001b[0K\u001b[1G164.9 MiB [] 99% 0.0s\u001b[0K\u001b[1G164.9 MiB [] 100% 0.0s\u001b[0K\n",
            "Chromium 134.0.6998.35 (playwright build v1161) downloaded to /root/.cache/ms-playwright/chromium-1161\n",
            "Downloading Chromium Headless Shell 134.0.6998.35 (playwright build v1161)\u001b[2m from https://cdn.playwright.dev/dbazure/download/playwright/builds/chromium/1161/chromium-headless-shell-linux.zip\u001b[22m\n",
            "\u001b[1G100.9 MiB [] 0% 0.0s\u001b[0K\u001b[1G100.9 MiB [] 0% 27.5s\u001b[0K\u001b[1G100.9 MiB [] 0% 21.7s\u001b[0K\u001b[1G100.9 MiB [] 0% 13.3s\u001b[0K\u001b[1G100.9 MiB [] 0% 7.7s\u001b[0K\u001b[1G100.9 MiB [] 1% 5.6s\u001b[0K\u001b[1G100.9 MiB [] 2% 4.4s\u001b[0K\u001b[1G100.9 MiB [] 2% 4.0s\u001b[0K\u001b[1G100.9 MiB [] 3% 3.5s\u001b[0K\u001b[1G100.9 MiB [] 4% 3.2s\u001b[0K\u001b[1G100.9 MiB [] 5% 3.1s\u001b[0K\u001b[1G100.9 MiB [] 5% 2.9s\u001b[0K\u001b[1G100.9 MiB [] 6% 2.8s\u001b[0K\u001b[1G100.9 MiB [] 7% 2.7s\u001b[0K\u001b[1G100.9 MiB [] 8% 2.6s\u001b[0K\u001b[1G100.9 MiB [] 9% 2.6s\u001b[0K\u001b[1G100.9 MiB [] 9% 2.5s\u001b[0K\u001b[1G100.9 MiB [] 10% 2.6s\u001b[0K\u001b[1G100.9 MiB [] 10% 2.8s\u001b[0K\u001b[1G100.9 MiB [] 11% 2.8s\u001b[0K\u001b[1G100.9 MiB [] 11% 2.9s\u001b[0K\u001b[1G100.9 MiB [] 13% 2.7s\u001b[0K\u001b[1G100.9 MiB [] 13% 2.6s\u001b[0K\u001b[1G100.9 MiB [] 14% 2.5s\u001b[0K\u001b[1G100.9 MiB [] 15% 2.5s\u001b[0K\u001b[1G100.9 MiB [] 16% 2.5s\u001b[0K\u001b[1G100.9 MiB [] 16% 2.4s\u001b[0K\u001b[1G100.9 MiB [] 17% 2.4s\u001b[0K\u001b[1G100.9 MiB [] 18% 2.3s\u001b[0K\u001b[1G100.9 MiB [] 19% 2.2s\u001b[0K\u001b[1G100.9 MiB [] 20% 2.2s\u001b[0K\u001b[1G100.9 MiB [] 21% 2.0s\u001b[0K\u001b[1G100.9 MiB [] 22% 2.0s\u001b[0K\u001b[1G100.9 MiB [] 23% 2.0s\u001b[0K\u001b[1G100.9 MiB [] 24% 1.9s\u001b[0K\u001b[1G100.9 MiB [] 25% 1.9s\u001b[0K\u001b[1G100.9 MiB [] 27% 1.8s\u001b[0K\u001b[1G100.9 MiB [] 28% 1.7s\u001b[0K\u001b[1G100.9 MiB [] 29% 1.7s\u001b[0K\u001b[1G100.9 MiB [] 30% 1.6s\u001b[0K\u001b[1G100.9 MiB [] 31% 1.6s\u001b[0K\u001b[1G100.9 MiB [] 33% 1.5s\u001b[0K\u001b[1G100.9 MiB [] 34% 1.4s\u001b[0K\u001b[1G100.9 MiB [] 35% 1.4s\u001b[0K\u001b[1G100.9 MiB [] 36% 1.4s\u001b[0K\u001b[1G100.9 MiB [] 37% 1.3s\u001b[0K\u001b[1G100.9 MiB [] 38% 1.3s\u001b[0K\u001b[1G100.9 MiB [] 39% 1.3s\u001b[0K\u001b[1G100.9 MiB [] 40% 1.2s\u001b[0K\u001b[1G100.9 MiB [] 42% 1.2s\u001b[0K\u001b[1G100.9 MiB [] 43% 1.1s\u001b[0K\u001b[1G100.9 MiB [] 44% 1.1s\u001b[0K\u001b[1G100.9 MiB [] 45% 1.1s\u001b[0K\u001b[1G100.9 MiB [] 47% 1.1s\u001b[0K\u001b[1G100.9 MiB [] 48% 1.0s\u001b[0K\u001b[1G100.9 MiB [] 50% 1.0s\u001b[0K\u001b[1G100.9 MiB [] 51% 1.0s\u001b[0K\u001b[1G100.9 MiB [] 52% 0.9s\u001b[0K\u001b[1G100.9 MiB [] 53% 0.9s\u001b[0K\u001b[1G100.9 MiB [] 55% 0.9s\u001b[0K\u001b[1G100.9 MiB [] 56% 0.8s\u001b[0K\u001b[1G100.9 MiB [] 58% 0.8s\u001b[0K\u001b[1G100.9 MiB [] 59% 0.8s\u001b[0K\u001b[1G100.9 MiB [] 60% 0.7s\u001b[0K\u001b[1G100.9 MiB [] 61% 0.7s\u001b[0K\u001b[1G100.9 MiB [] 63% 0.7s\u001b[0K\u001b[1G100.9 MiB [] 64% 0.7s\u001b[0K\u001b[1G100.9 MiB [] 65% 0.6s\u001b[0K\u001b[1G100.9 MiB [] 66% 0.6s\u001b[0K\u001b[1G100.9 MiB [] 68% 0.6s\u001b[0K\u001b[1G100.9 MiB [] 70% 0.5s\u001b[0K\u001b[1G100.9 MiB [] 71% 0.5s\u001b[0K\u001b[1G100.9 MiB [] 72% 0.5s\u001b[0K\u001b[1G100.9 MiB [] 74% 0.5s\u001b[0K\u001b[1G100.9 MiB [] 75% 0.4s\u001b[0K\u001b[1G100.9 MiB [] 76% 0.4s\u001b[0K\u001b[1G100.9 MiB [] 78% 0.4s\u001b[0K\u001b[1G100.9 MiB [] 79% 0.4s\u001b[0K\u001b[1G100.9 MiB [] 80% 0.3s\u001b[0K\u001b[1G100.9 MiB [] 82% 0.3s\u001b[0K\u001b[1G100.9 MiB [] 83% 0.3s\u001b[0K\u001b[1G100.9 MiB [] 85% 0.2s\u001b[0K\u001b[1G100.9 MiB [] 87% 0.2s\u001b[0K\u001b[1G100.9 MiB [] 88% 0.2s\u001b[0K\u001b[1G100.9 MiB [] 90% 0.2s\u001b[0K\u001b[1G100.9 MiB [] 92% 0.1s\u001b[0K\u001b[1G100.9 MiB [] 93% 0.1s\u001b[0K\u001b[1G100.9 MiB [] 94% 0.1s\u001b[0K\u001b[1G100.9 MiB [] 96% 0.1s\u001b[0K\u001b[1G100.9 MiB [] 97% 0.0s\u001b[0K\u001b[1G100.9 MiB [] 99% 0.0s\u001b[0K\u001b[1G100.9 MiB [] 100% 0.0s\u001b[0K\n",
            "Chromium Headless Shell 134.0.6998.35 (playwright build v1161) downloaded to /root/.cache/ms-playwright/chromium_headless_shell-1161\n",
            "Downloading Firefox 135.0 (playwright build v1475)\u001b[2m from https://cdn.playwright.dev/dbazure/download/playwright/builds/firefox/1475/firefox-ubuntu-22.04.zip\u001b[22m\n",
            "\u001b[1G90.6 MiB [] 0% 0.0s\u001b[0K\u001b[1G90.6 MiB [] 0% 31.6s\u001b[0K\u001b[1G90.6 MiB [] 0% 18.0s\u001b[0K\u001b[1G90.6 MiB [] 0% 10.2s\u001b[0K\u001b[1G90.6 MiB [] 0% 8.6s\u001b[0K\u001b[1G90.6 MiB [] 1% 5.7s\u001b[0K\u001b[1G90.6 MiB [] 2% 4.8s\u001b[0K\u001b[1G90.6 MiB [] 3% 3.3s\u001b[0K\u001b[1G90.6 MiB [] 4% 2.7s\u001b[0K\u001b[1G90.6 MiB [] 6% 2.4s\u001b[0K\u001b[1G90.6 MiB [] 7% 1.9s\u001b[0K\u001b[1G90.6 MiB [] 9% 1.8s\u001b[0K\u001b[1G90.6 MiB [] 10% 1.6s\u001b[0K\u001b[1G90.6 MiB [] 11% 1.6s\u001b[0K\u001b[1G90.6 MiB [] 12% 1.6s\u001b[0K\u001b[1G90.6 MiB [] 14% 1.5s\u001b[0K\u001b[1G90.6 MiB [] 16% 1.4s\u001b[0K\u001b[1G90.6 MiB [] 17% 1.4s\u001b[0K\u001b[1G90.6 MiB [] 18% 1.4s\u001b[0K\u001b[1G90.6 MiB [] 19% 1.3s\u001b[0K\u001b[1G90.6 MiB [] 21% 1.2s\u001b[0K\u001b[1G90.6 MiB [] 23% 1.1s\u001b[0K\u001b[1G90.6 MiB [] 24% 1.1s\u001b[0K\u001b[1G90.6 MiB [] 26% 1.1s\u001b[0K\u001b[1G90.6 MiB [] 28% 1.0s\u001b[0K\u001b[1G90.6 MiB [] 29% 1.0s\u001b[0K\u001b[1G90.6 MiB [] 31% 0.9s\u001b[0K\u001b[1G90.6 MiB [] 33% 0.9s\u001b[0K\u001b[1G90.6 MiB [] 35% 0.8s\u001b[0K\u001b[1G90.6 MiB [] 37% 0.8s\u001b[0K\u001b[1G90.6 MiB [] 39% 0.8s\u001b[0K\u001b[1G90.6 MiB [] 40% 0.7s\u001b[0K\u001b[1G90.6 MiB [] 42% 0.7s\u001b[0K\u001b[1G90.6 MiB [] 44% 0.7s\u001b[0K\u001b[1G90.6 MiB [] 46% 0.6s\u001b[0K\u001b[1G90.6 MiB [] 48% 0.6s\u001b[0K\u001b[1G90.6 MiB [] 50% 0.6s\u001b[0K\u001b[1G90.6 MiB [] 51% 0.6s\u001b[0K\u001b[1G90.6 MiB [] 53% 0.6s\u001b[0K\u001b[1G90.6 MiB [] 55% 0.5s\u001b[0K\u001b[1G90.6 MiB [] 57% 0.5s\u001b[0K\u001b[1G90.6 MiB [] 59% 0.5s\u001b[0K\u001b[1G90.6 MiB [] 61% 0.4s\u001b[0K\u001b[1G90.6 MiB [] 64% 0.4s\u001b[0K\u001b[1G90.6 MiB [] 65% 0.4s\u001b[0K\u001b[1G90.6 MiB [] 67% 0.4s\u001b[0K\u001b[1G90.6 MiB [] 70% 0.3s\u001b[0K\u001b[1G90.6 MiB [] 72% 0.3s\u001b[0K\u001b[1G90.6 MiB [] 74% 0.3s\u001b[0K\u001b[1G90.6 MiB [] 75% 0.3s\u001b[0K\u001b[1G90.6 MiB [] 76% 0.3s\u001b[0K\u001b[1G90.6 MiB [] 77% 0.2s\u001b[0K\u001b[1G90.6 MiB [] 78% 0.2s\u001b[0K\u001b[1G90.6 MiB [] 80% 0.2s\u001b[0K\u001b[1G90.6 MiB [] 81% 0.2s\u001b[0K\u001b[1G90.6 MiB [] 83% 0.2s\u001b[0K\u001b[1G90.6 MiB [] 84% 0.2s\u001b[0K\u001b[1G90.6 MiB [] 87% 0.1s\u001b[0K\u001b[1G90.6 MiB [] 89% 0.1s\u001b[0K\u001b[1G90.6 MiB [] 91% 0.1s\u001b[0K\u001b[1G90.6 MiB [] 93% 0.1s\u001b[0K\u001b[1G90.6 MiB [] 95% 0.0s\u001b[0K\u001b[1G90.6 MiB [] 97% 0.0s\u001b[0K\u001b[1G90.6 MiB [] 99% 0.0s\u001b[0K\u001b[1G90.6 MiB [] 100% 0.0s\u001b[0K\n",
            "Firefox 135.0 (playwright build v1475) downloaded to /root/.cache/ms-playwright/firefox-1475\n",
            "Downloading Webkit 18.4 (playwright build v2140)\u001b[2m from https://cdn.playwright.dev/dbazure/download/playwright/builds/webkit/2140/webkit-ubuntu-22.04.zip\u001b[22m\n",
            "\u001b[1G92.3 MiB [] 0% 0.0s\u001b[0K\u001b[1G92.3 MiB [] 0% 31.2s\u001b[0K\u001b[1G92.3 MiB [] 0% 14.6s\u001b[0K\u001b[1G92.3 MiB [] 0% 8.5s\u001b[0K\u001b[1G92.3 MiB [] 1% 4.6s\u001b[0K\u001b[1G92.3 MiB [] 3% 2.8s\u001b[0K\u001b[1G92.3 MiB [] 4% 2.1s\u001b[0K\u001b[1G92.3 MiB [] 6% 1.8s\u001b[0K\u001b[1G92.3 MiB [] 7% 1.6s\u001b[0K\u001b[1G92.3 MiB [] 8% 1.5s\u001b[0K\u001b[1G92.3 MiB [] 10% 1.4s\u001b[0K\u001b[1G92.3 MiB [] 11% 1.5s\u001b[0K\u001b[1G92.3 MiB [] 12% 1.4s\u001b[0K\u001b[1G92.3 MiB [] 14% 1.4s\u001b[0K\u001b[1G92.3 MiB [] 15% 1.4s\u001b[0K\u001b[1G92.3 MiB [] 16% 1.3s\u001b[0K\u001b[1G92.3 MiB [] 18% 1.3s\u001b[0K\u001b[1G92.3 MiB [] 19% 1.3s\u001b[0K\u001b[1G92.3 MiB [] 20% 1.2s\u001b[0K\u001b[1G92.3 MiB [] 22% 1.1s\u001b[0K\u001b[1G92.3 MiB [] 24% 1.1s\u001b[0K\u001b[1G92.3 MiB [] 25% 1.1s\u001b[0K\u001b[1G92.3 MiB [] 27% 1.0s\u001b[0K\u001b[1G92.3 MiB [] 29% 1.0s\u001b[0K\u001b[1G92.3 MiB [] 31% 0.9s\u001b[0K\u001b[1G92.3 MiB [] 33% 0.9s\u001b[0K\u001b[1G92.3 MiB [] 35% 0.8s\u001b[0K\u001b[1G92.3 MiB [] 37% 0.8s\u001b[0K\u001b[1G92.3 MiB [] 38% 0.8s\u001b[0K\u001b[1G92.3 MiB [] 39% 0.8s\u001b[0K\u001b[1G92.3 MiB [] 41% 0.7s\u001b[0K\u001b[1G92.3 MiB [] 42% 0.7s\u001b[0K\u001b[1G92.3 MiB [] 44% 0.7s\u001b[0K\u001b[1G92.3 MiB [] 45% 0.7s\u001b[0K\u001b[1G92.3 MiB [] 46% 0.7s\u001b[0K\u001b[1G92.3 MiB [] 47% 0.7s\u001b[0K\u001b[1G92.3 MiB [] 48% 0.7s\u001b[0K\u001b[1G92.3 MiB [] 49% 0.7s\u001b[0K\u001b[1G92.3 MiB [] 50% 0.7s\u001b[0K\u001b[1G92.3 MiB [] 52% 0.6s\u001b[0K\u001b[1G92.3 MiB [] 53% 0.6s\u001b[0K\u001b[1G92.3 MiB [] 55% 0.6s\u001b[0K\u001b[1G92.3 MiB [] 57% 0.6s\u001b[0K\u001b[1G92.3 MiB [] 58% 0.5s\u001b[0K\u001b[1G92.3 MiB [] 60% 0.5s\u001b[0K\u001b[1G92.3 MiB [] 62% 0.5s\u001b[0K\u001b[1G92.3 MiB [] 64% 0.4s\u001b[0K\u001b[1G92.3 MiB [] 66% 0.4s\u001b[0K\u001b[1G92.3 MiB [] 68% 0.4s\u001b[0K\u001b[1G92.3 MiB [] 70% 0.4s\u001b[0K\u001b[1G92.3 MiB [] 72% 0.3s\u001b[0K\u001b[1G92.3 MiB [] 74% 0.3s\u001b[0K\u001b[1G92.3 MiB [] 76% 0.3s\u001b[0K\u001b[1G92.3 MiB [] 78% 0.3s\u001b[0K\u001b[1G92.3 MiB [] 79% 0.2s\u001b[0K\u001b[1G92.3 MiB [] 81% 0.2s\u001b[0K\u001b[1G92.3 MiB [] 82% 0.2s\u001b[0K\u001b[1G92.3 MiB [] 84% 0.2s\u001b[0K\u001b[1G92.3 MiB [] 85% 0.2s\u001b[0K\u001b[1G92.3 MiB [] 87% 0.2s\u001b[0K\u001b[1G92.3 MiB [] 88% 0.1s\u001b[0K\u001b[1G92.3 MiB [] 90% 0.1s\u001b[0K\u001b[1G92.3 MiB [] 92% 0.1s\u001b[0K\u001b[1G92.3 MiB [] 93% 0.1s\u001b[0K\u001b[1G92.3 MiB [] 94% 0.1s\u001b[0K\u001b[1G92.3 MiB [] 96% 0.0s\u001b[0K\u001b[1G92.3 MiB [] 97% 0.0s\u001b[0K\u001b[1G92.3 MiB [] 99% 0.0s\u001b[0K\u001b[1G92.3 MiB [] 100% 0.0s\u001b[0K\n",
            "Webkit 18.4 (playwright build v2140) downloaded to /root/.cache/ms-playwright/webkit-2140\n",
            "Downloading FFMPEG playwright build v1011\u001b[2m from https://cdn.playwright.dev/dbazure/download/playwright/builds/ffmpeg/1011/ffmpeg-linux.zip\u001b[22m\n",
            "\u001b[1G2.3 MiB [] 0% 0.0s\u001b[0K\u001b[1G2.3 MiB [] 2% 0.7s\u001b[0K\u001b[1G2.3 MiB [] 10% 0.3s\u001b[0K\u001b[1G2.3 MiB [] 23% 0.2s\u001b[0K\u001b[1G2.3 MiB [] 59% 0.0s\u001b[0K\u001b[1G2.3 MiB [] 92% 0.0s\u001b[0K\u001b[1G2.3 MiB [] 100% 0.0s\u001b[0K\n",
            "FFMPEG playwright build v1011 downloaded to /root/.cache/ms-playwright/ffmpeg-1011\n",
            "Playwright Host validation warning: \n",
            "╔══════════════════════════════════════════════════════╗\n",
            "║ Host system is missing dependencies to run browsers. ║\n",
            "║ Missing libraries:                                   ║\n",
            "║     libwoff2dec.so.1.0.2                             ║\n",
            "║     libgstgl-1.0.so.0                                ║\n",
            "║     libgstcodecparsers-1.0.so.0                      ║\n",
            "║     libavif.so.13                                    ║\n",
            "║     libharfbuzz-icu.so.0                             ║\n",
            "║     libenchant-2.so.2                                ║\n",
            "║     libsecret-1.so.0                                 ║\n",
            "║     libhyphen.so.0                                   ║\n",
            "║     libmanette-0.2.so.0                              ║\n",
            "╚══════════════════════════════════════════════════════╝\n",
            "    at validateDependenciesLinux (/usr/local/lib/python3.11/dist-packages/playwright/driver/package/lib/server/registry/dependencies.js:216:9)\n",
            "\u001b[90m    at process.processTicksAndRejections (node:internal/process/task_queues:105:5)\u001b[39m\n",
            "    at async Registry._validateHostRequirements (/usr/local/lib/python3.11/dist-packages/playwright/driver/package/lib/server/registry/index.js:859:52)\n",
            "    at async Registry._validateHostRequirementsForExecutableIfNeeded (/usr/local/lib/python3.11/dist-packages/playwright/driver/package/lib/server/registry/index.js:957:7)\n",
            "    at async Registry.validateHostRequirementsForExecutablesIfNeeded (/usr/local/lib/python3.11/dist-packages/playwright/driver/package/lib/server/registry/index.js:946:43)\n",
            "    at async t.<anonymous> (/usr/local/lib/python3.11/dist-packages/playwright/driver/package/lib/cli/program.js:122:7)\n"
          ]
        }
      ],
      "source": [
        "#@title Install Requirements\n",
        "!pip install -qU \"langchain[google-vertexai]\"\n",
        "!pip install -qU langchain-google-vertexai\n",
        "!pip install langchain-google-genai\n",
        "!pip install -qU langchain-core\n",
        "!pip install -qU pypdf langchain_community\n",
        "!pip install playwright\n",
        "!playwright install"
      ]
    },
    {
      "cell_type": "code",
      "source": [
        "#@title Get Google AI API Key\n",
        "## You need to put your Google AI API key.\n",
        "\n",
        "import getpass\n",
        "import os\n",
        "\n",
        "if \"GOOGLE_API_KEY\" not in os.environ:\n",
        "    os.environ[\"GOOGLE_API_KEY\"] = getpass.getpass(\"Enter your Google AI API key: \")"
      ],
      "metadata": {
        "colab": {
          "base_uri": "https://localhost:8080/"
        },
        "id": "brfHn_CovW-2",
        "outputId": "5ec5b841-5117-4055-9423-8ca04fd315eb"
      },
      "execution_count": 2,
      "outputs": [
        {
          "name": "stdout",
          "output_type": "stream",
          "text": [
            "Enter your Google AI API key: ··········\n"
          ]
        }
      ]
    },
    {
      "cell_type": "code",
      "source": [
        "#@title Authenticate with Google Cloud and your project ID\n",
        "# Please put your google cloud project id.\n",
        "\n",
        "import vertexai\n",
        "from google.colab import auth\n",
        "\n",
        "gcp_project_id = 'assignment-2-451115' # @param {type: \"string\"}       ## PUT GOOGLE CLOUD ASSIGNMENT NAME HERE\n",
        "\n",
        "auth.authenticate_user(project_id=gcp_project_id)\n",
        "\n",
        "vertexai.init(project=gcp_project_id)"
      ],
      "metadata": {
        "id": "TlZeXpp0vbLs"
      },
      "execution_count": 3,
      "outputs": []
    },
    {
      "cell_type": "code",
      "source": [
        "#@title RAG Train Model\n",
        "#!pip install -qU \"langchain[google-vertexai]\"\n",
        "#!pip install -qU langchain-google-vertexai\n",
        "#!pip install langchain-google-genai\n",
        "#!pip install -qU langchain-core\n",
        "#!pip install -qU pypdf langchain_community\n",
        "#!pip install playwright\n",
        "#!playwright install\n",
        "\n",
        "import requests\n",
        "import textwrap\n",
        "from langchain.chat_models import init_chat_model\n",
        "from langchain_core.prompts import ChatPromptTemplate\n",
        "from langchain_community.document_loaders import TextLoader\n",
        "from langchain_community.document_loaders import AsyncChromiumLoader\n",
        "from langchain_community.document_transformers import BeautifulSoupTransformer\n",
        "# embed the document\n",
        "from langchain_text_splitters import RecursiveCharacterTextSplitter\n",
        "from langchain_google_vertexai import VertexAIEmbeddings\n",
        "from langchain_core.vectorstores import InMemoryVectorStore\n",
        "import urllib.request\n",
        "import pandas as pd\n",
        "from langchain_core.documents import Document\n",
        "from langchain_community.document_loaders import PyPDFLoader\n",
        "# Wrap in LangChain LLM\n",
        "from langchain_community.llms import HuggingFacePipeline as LC_HF_Pipeline\n",
        "from transformers import AutoTokenizer, AutoModelForCausalLM, pipeline\n",
        "from langchain.llms import HuggingFacePipeline\n",
        "\n",
        "################################# PUT QUESTION HERE #######################################\n",
        "question = \"What is the rating for Mr. Peabody & Sherman?\"\n",
        "\n",
        "\n",
        "############################## FILES TO RAG TRAIN BELOW ###################################\n",
        "# 1: Load movies_data_1.txt file\n",
        "file_path = \"./movies_data_1.txt\"\n",
        "txt_loader = TextLoader(file_path)\n",
        "txt_doc_1 = txt_loader.load()\n",
        "\n",
        "# 2: Load netflix_2025_released_movies CSV file\n",
        "csv_2025_released_movies = pd.read_csv(\"./netflix_2025_released_movies.csv\")\n",
        "\n",
        "csv_doc_2 = []\n",
        "for _, row in csv_2025_released_movies.iterrows():\n",
        "    content = f\"List of Netflix Movies released in 2025:\\n Title: {row.get('Title', '')}\\nRelease Date: {row.get('Release Date', '')}\\nGenre: {row.get('genre', '')}\\nDirector(s): {row.get('Director(s)', '')}\\nCast Highlights: {row.get('Cast Highlights', '')}Description: {row.get('Description', '')}\\n\"\n",
        "    csv_doc_2.append(Document(page_content=content))\n",
        "\n",
        "# 3: Load netflix_2024 pdf\n",
        "pdf_path = \"./netflix_2024.pdf\"\n",
        "pdf_loader = PyPDFLoader(pdf_path)\n",
        "pdf_docs_3 = pdf_loader.load()\n",
        "\n",
        "# 4: Load april_2025_movies pdf\n",
        "pdf_path = \"./netflix_april_2025.pdf\"\n",
        "pdf_loader = PyPDFLoader(pdf_path)\n",
        "pdf_docs_4 = pdf_loader.load()\n",
        "\n",
        "# 5: Load march_2025_movies pdf\n",
        "pdf_path = \"./netflix_march_2025.pdf\"\n",
        "pdf_loader = PyPDFLoader(pdf_path)\n",
        "pdf_docs_5 = pdf_loader.load()\n",
        "\n",
        "# 6: Load netflix_movies_1_to_100 CSV file\n",
        "csv_movies_1_to_100 = pd.read_csv(\"./netflix_movies_1_to_100.csv\")\n",
        "\n",
        "csv_doc_6 = []\n",
        "for _, row in csv_movies_1_to_100.iterrows():\n",
        "    content = f\"Netflix Movie Data (Ranked Top 100):\\n Rank: {row.get('Rank', '')}\\nTitle: {row.get('Title', '')}\\nRelease Year: {row.get('Year', '')}\\nRotten Tomato Score (Rating): {row.get('Tomatometer', '')}\\nCritics Consensus: {row.get('Critics Consensus', '')}\\nSynopsis: {row.get('Synopsis', '')}\\nCast: {row.get('Starring', '')}\\nDirected By: {row.get('Directed By', '')}\\nAvailable on: {row.get('Streaming On', '')}\\n\"\n",
        "    csv_doc_6.append(Document(page_content=content))\n",
        "\n",
        "# 7: Load custom (1) CSV file\n",
        "csv_movies_ratings = pd.read_csv(\"./custom (1).csv\")\n",
        "\n",
        "csv_doc_7 = []\n",
        "for _, row in csv_movies_ratings.iterrows():\n",
        "    content = f\"List of Movie Ratings (not limited to just Netflix):\\n Title ID: {row.get('tconst', '')}\\nPrimary Title: {row.get('primaryTitle', '')}\\nOriginal Title: {row.get('originalTitle', '')}\\nRelease Year: {row.get('startYear', '')}\\nGenres: {row.get('genres', '')}\\nAverage Rating: {row.get('averageRating', '')}\\nNumber of Votes: {row.get('numVotes', '')}\\n\"\n",
        "    csv_doc_7.append(Document(page_content=content))\n",
        "\n",
        "# 8: Load custom_oscar (1) CSV file\n",
        "csv_oscar_nominations = pd.read_csv(\"./custom_oscar (1).csv\")\n",
        "\n",
        "csv_doc_8 = []\n",
        "for _, row in csv_oscar_nominations.iterrows():\n",
        "    content = f\"List of Oscar Nominated Netflix Movies:\\nFilm Year: {row.get('year_film', '')}\\nCeremony Year: {row.get('year_ceremony', '')}\\nCeremony Number: {row.get('ceremony', '')}\\nCategory: {row.get('category', '')}\\nCanonical Category: {row.get('canon_category', '')}\\nNominee: {row.get('name', '')}\\nFilm: {row.get('film', '')}\\nWinner: {row.get('winner', '') }\\n\"\n",
        "    csv_doc_8.append(Document(page_content=content))\n",
        "\n",
        "\n",
        "\n",
        "# 10: Load netflix_titles CSV file\n",
        "csv_netflix_titles = pd.read_csv(\"./netflix_titles.csv\")\n",
        "\n",
        "csv_doc_10 = []\n",
        "for _, row in csv_netflix_titles.iterrows():\n",
        "    content = f\"List of Netflix Movies:\\nType: {row.get('type', '')}\\nTitle: {row.get('title', '')}\\nDirector: {row.get('director', '')}\\nCast Members: {row.get('cast', '')}\\nCountry: {row.get('country', '')}\\nDate Added: {row.get('data_added', '')}\\nReleased Year: {row.get('release_year', '')}\\nRating: {row.get('rating', '') }\\nDuration: {row.get('duration', '') }\\nCategory: {row.get('listed_in', '') }\\nDescription: {row.get('description', '') }\\n\"\n",
        "    csv_doc_10.append(Document(page_content=content))\n",
        "\n",
        "##############################################################################################\n",
        "\n",
        "# Combine all docs\n",
        "docs = txt_doc_1 + csv_doc_2 + pdf_docs_3 + pdf_docs_4 +pdf_docs_5 + csv_doc_6 + csv_doc_7 + csv_doc_8 + csv_doc_10\n",
        "\n",
        "\n",
        "# Split the text into chunks\n",
        "text_splitter = RecursiveCharacterTextSplitter(chunk_size=1000, chunk_overlap=200)\n",
        "splits = text_splitter.split_documents(docs)\n",
        "\n",
        "\n",
        "# load chat model\n",
        "llm = init_chat_model(\"gemini-2.0-flash-001\", model_provider=\"google_vertexai\")\n",
        "\n",
        "\n",
        "# load embedding model\n",
        "embedding_model = VertexAIEmbeddings(model=\"text-embedding-004\")\n",
        "\n",
        "# vector store\n",
        "vector_store = InMemoryVectorStore(embedding=embedding_model)\n",
        "print(f\"Number of chunks to embed: {len(splits)}\")\n",
        "from tqdm import tqdm\n",
        "vector_store.add_texts([docs.page_content for docs in tqdm(splits)])\n",
        "#vector_store.add_texts([docs.page_content for docs in splits])\n",
        "retriever = vector_store.as_retriever(search_kwargs={\"k\": 10})\n",
        "\n",
        "# Run without RAG\n",
        "baseline_prompt = ChatPromptTemplate.from_messages([\n",
        "    (\"system\", \"You are an LLM that should answer questions to the best of your ability.\"),\n",
        "    (\"human\", \"{input}\"),\n",
        "])\n",
        "baseline_chain = baseline_prompt | llm\n",
        "\n",
        "baseline_response = baseline_chain.invoke({\"input\": question})\n",
        "\n",
        "print(\"\\n--- Pre-RAG Output ---\")\n",
        "print(textwrap.fill(baseline_response.content, width=110))\n",
        "\n",
        "\n",
        "\n",
        "# run inference with RAG\n",
        "from langchain.chains import create_retrieval_chain\n",
        "from langchain.chains.combine_documents import create_stuff_documents_chain\n",
        "\n",
        "system_prompt = (\n",
        "    \"You are an LLM that should answer my questions with correct answers.\"\n",
        "    \"Please answer the quuestion to the best of your ability. Use both the context and your own knowledge \"\n",
        "    \"to answer the question as best you can.\\n\"\n",
        "    \"{context}\"\n",
        ")\n",
        "\n",
        "prompt = ChatPromptTemplate.from_messages(\n",
        "    [\n",
        "        (\"system\", system_prompt),\n",
        "        (\"human\", \"{input}\"),\n",
        "    ]\n",
        ")\n",
        "\n",
        "\n",
        "question_answer_chain = create_stuff_documents_chain(llm, prompt)\n",
        "rag_chain = create_retrieval_chain(retriever, question_answer_chain)\n",
        "\n",
        "results = rag_chain.invoke({\"input\": question})\n",
        "output_text = results['answer']\n",
        "wrapped_text = textwrap.fill(output_text, width=110)\n",
        "print(\"\\n--- Post-RAG Output ---\")\n",
        "print(wrapped_text)\n",
        "\n",
        "#print(results['answer'])"
      ],
      "metadata": {
        "colab": {
          "base_uri": "https://localhost:8080/"
        },
        "id": "-cJc5pIkvgwc",
        "outputId": "93261347-ee33-4a30-dd09-c3616c230977"
      },
      "execution_count": 9,
      "outputs": [
        {
          "output_type": "stream",
          "name": "stdout",
          "text": [
            "Number of chunks to embed: 24561\n"
          ]
        },
        {
          "output_type": "stream",
          "name": "stderr",
          "text": [
            "100%|██████████| 24561/24561 [00:00<00:00, 1695964.91it/s]\n"
          ]
        },
        {
          "output_type": "stream",
          "name": "stdout",
          "text": [
            "\n",
            "--- Pre-RAG Output ---\n",
            "*Mr. Peabody & Sherman* has the following ratings:  *   **Common Sense Media:** 7+ *   **IMDb:** 6.8/10 *\n",
            "**Rotten Tomatoes:** 79% *   **Metacritic:** 59/100\n",
            "\n",
            "--- Post-RAG Output ---\n",
            "Mr. Peabody & Sherman has several ratings depending on the source:  *   **IMDB:** 6.7 (based on 81,029 votes)\n",
            "*   **Audience Rating on IMDB (Netflix data):** 6.7 *   **Rotten Tomatoes:** 81%\n"
          ]
        }
      ]
    },
    {
      "cell_type": "code",
      "source": [
        "question = 'What is the highest rated Netflix movie' # @param {type: \"string\"}\n",
        "results = rag_chain.invoke({\"input\": question})\n",
        "output_text = results['answer']\n",
        "wrapped_text = textwrap.fill(output_text, width=110)\n",
        "print(\"\\n--- Post-RAG Output ---\")\n",
        "print(wrapped_text)"
      ],
      "metadata": {
        "colab": {
          "base_uri": "https://localhost:8080/"
        },
        "id": "_p4SdGL4yaoV",
        "outputId": "e112f3b2-baf1-4b46-f99a-afafe7d9947e"
      },
      "execution_count": 21,
      "outputs": [
        {
          "output_type": "stream",
          "name": "stdout",
          "text": [
            "\n",
            "--- Post-RAG Output ---\n",
            "Based on the provided data, the highest-rated Netflix movie is \"Schindler's List\" with a Rotten Tomato Score\n",
            "of 98%.\n"
          ]
        }
      ]
    }
  ]
}
