{
  "nbformat": 4,
  "nbformat_minor": 0,
  "metadata": {
    "colab": {
      "provenance": [],
      "authorship_tag": "ABX9TyP4Cpk/1qong1Sd7931UEyp",
      "include_colab_link": true
    },
    "kernelspec": {
      "name": "python3",
      "display_name": "Python 3"
    },
    "language_info": {
      "name": "python"
    }
  },
  "cells": [
    {
      "cell_type": "markdown",
      "metadata": {
        "id": "view-in-github",
        "colab_type": "text"
      },
      "source": [
        "<a href=\"https://colab.research.google.com/github/ReaganSanz/Netflix-Recommender-LLM-Fine-Tuning-/blob/main/Fine_tuning_movie_reccomender%3F.ipynb\" target=\"_parent\"><img src=\"https://colab.research.google.com/assets/colab-badge.svg\" alt=\"Open In Colab\"/></a>"
      ]
    },
    {
      "cell_type": "code",
      "execution_count": null,
      "metadata": {
        "id": "xDAcCmD6BlOw"
      },
      "outputs": [],
      "source": [
        "# Fine-Tuning Mistral on Google Colab for Movie Recommendations\n",
        "\n",
        "# Install dependencies\n",
        "!pip install -q transformers datasets peft accelerate bitsandbytes\n",
        "\n",
        "# Step 1: Load your dataset (replace with your actual file)\n",
        "from datasets import load_dataset\n",
        "\n",
        "dataset = load_dataset(\"json\", data_files={\"train\": \"train.json\", \"test\": \"test.json\"})\n",
        "\n",
        "# Example data format:\n",
        "# {\"instruction\": \"Recommend a Netflix movie based on this input.\",\n",
        "#  \"input\": \"Genre: Sci-Fi\\nYear: 2020\\nMood: Suspenseful\",\n",
        "#  \"output\": \"You might enjoy 'The Midnight Sky'...\"}\n"
      ]
    },
    {
      "cell_type": "code",
      "source": [
        "# Step 2: Format the dataset into prompt-style\n",
        "\n",
        "def format_prompt(example):\n",
        "    return {\n",
        "        \"text\": f\"### Instruction:\\n{example['instruction']}\\n\\n### Input:\\n{example['input']}\\n\\n### Response:\\n{example['output']}\"\n",
        "    }\n",
        "\n",
        "dataset = dataset.map(format_prompt)"
      ],
      "metadata": {
        "id": "REMDOs4MRHDS"
      },
      "execution_count": null,
      "outputs": []
    },
    {
      "cell_type": "code",
      "source": [
        "# Step 3: Load Mistral model and tokenizer\n",
        "from transformers import AutoModelForCausalLM, AutoTokenizer\n",
        "\n",
        "model_name = \"mistralai/Mistral-7B-v0.1\"\n",
        "tokenizer = AutoTokenizer.from_pretrained(model_name, trust_remote_code=True)\n",
        "\n",
        "model = AutoModelForCausalLM.from_pretrained(\n",
        "    model_name,\n",
        "    load_in_8bit=True,\n",
        "    device_map=\"auto\"\n",
        ")\n"
      ],
      "metadata": {
        "id": "SYSg2EwLRK7l"
      },
      "execution_count": null,
      "outputs": []
    },
    {
      "cell_type": "code",
      "source": [
        "# Step 4: Prepare for QLoRA fine-tuning\n",
        "from peft import prepare_model_for_kbit_training, LoraConfig, get_peft_model\n",
        "\n",
        "model = prepare_model_for_kbit_training(model)\n",
        "\n",
        "peft_config = LoraConfig(\n",
        "    r=8,\n",
        "    lora_alpha=16,\n",
        "    target_modules=[\"q_proj\", \"v_proj\"],\n",
        "    lora_dropout=0.1,\n",
        "    bias=\"none\",\n",
        "    task_type=\"CAUSAL_LM\"\n",
        ")\n",
        "\n",
        "model = get_peft_model(model, peft_config)"
      ],
      "metadata": {
        "id": "e6dgaVL8RNiD"
      },
      "execution_count": null,
      "outputs": []
    },
    {
      "cell_type": "code",
      "source": [
        "# Step 5: Tokenize formatted text\n",
        "\n",
        "def tokenize_function(example):\n",
        "    return tokenizer(example[\"text\"], padding=\"max_length\", truncation=True, max_length=512)\n",
        "\n",
        "train_data = dataset[\"train\"].map(tokenize_function, batched=True)\n",
        "test_data = dataset[\"test\"].map(tokenize_function, batched=True)\n"
      ],
      "metadata": {
        "id": "sV511YAtRQud"
      },
      "execution_count": null,
      "outputs": []
    },
    {
      "cell_type": "code",
      "source": [
        "# Step 6: Training with Hugging Face Trainer\n",
        "from transformers import TrainingArguments, Trainer\n",
        "\n",
        "training_args = TrainingArguments(\n",
        "    output_dir=\"./mistral-movie-recommender\",\n",
        "    per_device_train_batch_size=4,\n",
        "    per_device_eval_batch_size=4,\n",
        "    evaluation_strategy=\"epoch\",\n",
        "    save_strategy=\"epoch\",\n",
        "    num_train_epochs=3,\n",
        "    learning_rate=2e-4,\n",
        "    logging_dir=\"./logs\",\n",
        "    fp16=True,\n",
        "    push_to_hub=False\n",
        ")\n",
        "\n",
        "trainer = Trainer(\n",
        "    model=model,\n",
        "    args=training_args,\n",
        "    train_dataset=train_data,\n",
        "    eval_dataset=test_data\n",
        ")\n",
        "\n",
        "trainer.train()"
      ],
      "metadata": {
        "id": "mKJ_cU9RRTSg"
      },
      "execution_count": null,
      "outputs": []
    },
    {
      "cell_type": "code",
      "source": [
        "# Step 7: Save the model\n",
        "model.save_pretrained(\"./mistral-movie-recommender\")\n",
        "tokenizer.save_pretrained(\"./mistral-movie-recommender\")\n"
      ],
      "metadata": {
        "id": "Qx1mm-3NRW1S"
      },
      "execution_count": null,
      "outputs": []
    }
  ]
}